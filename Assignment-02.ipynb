{
 "cells": [
  {
   "cell_type": "markdown",
   "metadata": {},
   "source": [
    "## Assignments for Week-02"
   ]
  },
  {
   "cell_type": "markdown",
   "metadata": {},
   "source": [
    "In this course, we learnt what's the search problem and what's the machine leanring. In this assignment, we need you do some more practice."
   ]
  },
  {
   "cell_type": "markdown",
   "metadata": {},
   "source": [
    "### 1. Re-code the house price machine learning\n",
    "\n",
    "###### 1. Random Choose Method to get optimal *k* and *b*\n",
    "###### 2.Supervised Direction to get optimal *k* and *b*\n",
    "###### 3.Gradient Descent to get optimal *k* and *b*\n",
    "###### 4. Try different Loss function and learning rate. \n",
    "\n",
    "For example, you can change the loss function: $Loss = \\frac{1}{n} sum({y_i - \\hat{y_i}})^2$ to $Loss = \\frac{1}{n} sum(|{y_i - \\hat{y_i}}|)$\n",
    "\n",
    "And you can change the learning rate and observe the performance."
   ]
  },
  {
   "cell_type": "markdown",
   "metadata": {},
   "source": [
    "![](https://timgsa.baidu.com/timg?image&quality=80&size=b9999_10000&sec=1562414412237&di=8377c38d7b50c6f8d45b92ccc78dc1e7&imgtype=0&src=http%3A%2F%2Fmmbiz.qpic.cn%2Fmmbiz_jpg%2FlSyiavfm6wPgQDuDYa42IMgSkLOcPJU91RbkMibGy7VHLrhhNVLibTYk1iaLcmXKTdHc4icTDVia59QFXwqpW8cLflaw%2F640%3Fwx_fmt%3Djpeg)"
   ]
  },
  {
   "cell_type": "markdown",
   "metadata": {},
   "source": [
    "## 2. Answer following questions:\n",
    "\n",
    "\n",
    "###### 1. Why do we need machine learning methods instead of creating a complicated formula?\n"
   ]
  },
  {
   "cell_type": "markdown",
   "metadata": {},
   "source": [
    "Ans:"
   ]
  },
  {
   "cell_type": "markdown",
   "metadata": {},
   "source": [
    "###### 2.  Wha't's the disadvantages of `the 1st Random Choosen` methods in our course? "
   ]
  },
  {
   "cell_type": "markdown",
   "metadata": {},
   "source": [
    "Ans:"
   ]
  },
  {
   "cell_type": "markdown",
   "metadata": {},
   "source": [
    "###### 3. Is the `2nd method supervised direction` better than 1st one?  What's the disadvantages of `the 2nd supversied directin` method? "
   ]
  },
  {
   "cell_type": "markdown",
   "metadata": {},
   "source": [
    "Ans:"
   ]
  },
  {
   "cell_type": "markdown",
   "metadata": {},
   "source": [
    "###### 4. Why do we use `Derivative / Gredient` to fit a target function? "
   ]
  },
  {
   "cell_type": "markdown",
   "metadata": {},
   "source": [
    "Ans:因为梯度就是变量的变化方向，这样就避免的随机去找方向的，"
   ]
  },
  {
   "cell_type": "markdown",
   "metadata": {},
   "source": [
    "###### 5. In the words 'Gredient Descent', what's the `Gredient` and what's the `Descent`?"
   ]
  },
  {
   "cell_type": "markdown",
   "metadata": {},
   "source": [
    "Ans:Gradient 梯度， 多维空间里的导数；   Descent 下降，也就是按照梯度的方向每次都更新W值 "
   ]
  },
  {
   "cell_type": "markdown",
   "metadata": {},
   "source": [
    "###### 6. What's the advantages of `the 3rd gradient descent method` compared to the previous methods?"
   ]
  },
  {
   "cell_type": "markdown",
   "metadata": {},
   "source": [
    "Ans: 减少了随机性"
   ]
  },
  {
   "cell_type": "markdown",
   "metadata": {},
   "source": [
    "###### 7. Using the simple words to describe: What's the machine leanring."
   ]
  },
  {
   "cell_type": "markdown",
   "metadata": {},
   "source": [
    "Ans:"
   ]
  },
  {
   "cell_type": "markdown",
   "metadata": {},
   "source": [
    "## 3. Finish the search problem"
   ]
  },
  {
   "cell_type": "markdown",
   "metadata": {},
   "source": [
    "Please using the search policy to implement an agent. This agent receives two input, one is @param start station and the other is @param destination. Your agent should give the optimal route based on Beijing Subway system. "
   ]
  },
  {
   "cell_type": "markdown",
   "metadata": {},
   "source": [
    "> Deadline: 2019-July-13\n",
    "\n",
    ">Submit: Submit the source code and result to github. \n",
    "\n"
   ]
  },
  {
   "cell_type": "markdown",
   "metadata": {},
   "source": [
    "![](https://timgsa.baidu.com/timg?image&quality=80&size=b9999_10000&sec=1562414356407&di=b57814aafd215bb8b8d9d8cd37c573d6&imgtype=0&src=http%3A%2F%2Fcli.clewm.net%2Ffile%2F2015%2F03%2F24%2F174ed60082b8422ac0636cfd3efb9e7f.jpg)"
   ]
  },
  {
   "cell_type": "markdown",
   "metadata": {},
   "source": [
    "#### Dataflow: "
   ]
  },
  {
   "cell_type": "markdown",
   "metadata": {},
   "source": [
    "##### 1.\tGet data from web page.\n",
    "\n",
    "> a.\tGet web page source from: https://baike.baidu.com/item/%E5%8C%97%E4%BA%AC%E5%9C%B0%E9%93%81/408485\n",
    "\n",
    "> b.\tYou may need @package **requests**[https://2.python-requests.org/en/master/] page to get the response via url\n",
    "\n",
    "> c.\tYou may need save the page source to file system.\n",
    "\n",
    "> d.\tThe target of this step is to get station information of all the subway lines;\n",
    "\n",
    "> e.\tYou may need install @package beautiful soup[https://www.crummy.com/software/BeautifulSoup/bs4/doc/]  to get the url information, or just use > Regular Expression to get the url.  Our recommendation is that using the Regular Expression and BeautiflSoup both. \n",
    "\n",
    "> f.\tYou may need BFS to get all the related page url from one url. \n",
    "Question: Why do we use BFS to traverse web page (or someone said, build a web spider)?  Can DFS do this job? which is better? \n",
    "\n",
    "使用BFS。 DFS也可以做，但是BFS会更好一点"
   ]
  },
  {
   "cell_type": "code",
   "execution_count": 17,
   "metadata": {},
   "outputs": [
    {
     "name": "stdout",
     "output_type": "stream",
     "text": [
      "2开始爬取了的url/item/%E5%8C%97%E4%BA%AC%E5%9C%B0%E9%93%811%E5%8F%B7%E7%BA%BF\n",
      "2爬取到数据的url/item/%E5%8C%97%E4%BA%AC%E5%9C%B0%E9%93%811%E5%8F%B7%E7%BA%BF\n",
      "3开始爬取了的url/item/%E5%8C%97%E4%BA%AC%E5%9C%B0%E9%93%812%E5%8F%B7%E7%BA%BF\n",
      "3爬取到数据的url/item/%E5%8C%97%E4%BA%AC%E5%9C%B0%E9%93%812%E5%8F%B7%E7%BA%BF\n",
      "4开始爬取了的url/item/%E5%8C%97%E4%BA%AC%E5%9C%B0%E9%93%814%E5%8F%B7%E7%BA%BF\n",
      "4爬取到数据的url/item/%E5%8C%97%E4%BA%AC%E5%9C%B0%E9%93%814%E5%8F%B7%E7%BA%BF\n",
      "5开始爬取了的url/item/%E5%8C%97%E4%BA%AC%E5%9C%B0%E9%93%815%E5%8F%B7%E7%BA%BF\n",
      "5爬取到数据的url/item/%E5%8C%97%E4%BA%AC%E5%9C%B0%E9%93%815%E5%8F%B7%E7%BA%BF\n",
      "6开始爬取了的url/item/%E5%8C%97%E4%BA%AC%E5%9C%B0%E9%93%816%E5%8F%B7%E7%BA%BF\n",
      "6爬取到数据的url/item/%E5%8C%97%E4%BA%AC%E5%9C%B0%E9%93%816%E5%8F%B7%E7%BA%BF\n",
      "7开始爬取了的url/item/%E5%8C%97%E4%BA%AC%E5%9C%B0%E9%93%817%E5%8F%B7%E7%BA%BF\n",
      "7爬取到数据的url/item/%E5%8C%97%E4%BA%AC%E5%9C%B0%E9%93%817%E5%8F%B7%E7%BA%BF\n",
      "8开始爬取了的url/item/%E5%8C%97%E4%BA%AC%E5%9C%B0%E9%93%818%E5%8F%B7%E7%BA%BF/897830\n",
      "8爬取到数据的url/item/%E5%8C%97%E4%BA%AC%E5%9C%B0%E9%93%818%E5%8F%B7%E7%BA%BF/897830\n",
      "9开始爬取了的url/item/%E5%8C%97%E4%BA%AC%E5%9C%B0%E9%93%818%E5%8F%B7%E7%BA%BF/897830\n",
      "9爬取到数据的url/item/%E5%8C%97%E4%BA%AC%E5%9C%B0%E9%93%818%E5%8F%B7%E7%BA%BF/897830\n",
      "10开始爬取了的url/item/%E5%8C%97%E4%BA%AC%E5%9C%B0%E9%93%819%E5%8F%B7%E7%BA%BF\n",
      "10爬取到数据的url/item/%E5%8C%97%E4%BA%AC%E5%9C%B0%E9%93%819%E5%8F%B7%E7%BA%BF\n",
      "11开始爬取了的url/item/%E5%8C%97%E4%BA%AC%E5%9C%B0%E9%93%8110%E5%8F%B7%E7%BA%BF\n",
      "11爬取到数据的url/item/%E5%8C%97%E4%BA%AC%E5%9C%B0%E9%93%8110%E5%8F%B7%E7%BA%BF\n",
      "12开始爬取了的url/item/%E5%8C%97%E4%BA%AC%E5%9C%B0%E9%93%8113%E5%8F%B7%E7%BA%BF\n",
      "12爬取到数据的url/item/%E5%8C%97%E4%BA%AC%E5%9C%B0%E9%93%8113%E5%8F%B7%E7%BA%BF\n",
      "13开始爬取了的url/item/%E5%8C%97%E4%BA%AC%E5%9C%B0%E9%93%8114%E5%8F%B7%E7%BA%BF\n",
      "13爬取到数据的url/item/%E5%8C%97%E4%BA%AC%E5%9C%B0%E9%93%8114%E5%8F%B7%E7%BA%BF\n",
      "14开始爬取了的url/item/%E5%8C%97%E4%BA%AC%E5%9C%B0%E9%93%8114%E5%8F%B7%E7%BA%BF\n",
      "14爬取到数据的url/item/%E5%8C%97%E4%BA%AC%E5%9C%B0%E9%93%8114%E5%8F%B7%E7%BA%BF\n",
      "15开始爬取了的url/item/%E5%8C%97%E4%BA%AC%E5%9C%B0%E9%93%8115%E5%8F%B7%E7%BA%BF\n",
      "15爬取到数据的url/item/%E5%8C%97%E4%BA%AC%E5%9C%B0%E9%93%8115%E5%8F%B7%E7%BA%BF\n",
      "16开始爬取了的url/item/%E5%8C%97%E4%BA%AC%E5%9C%B0%E9%93%8116%E5%8F%B7%E7%BA%BF\n",
      "16爬取到数据的url/item/%E5%8C%97%E4%BA%AC%E5%9C%B0%E9%93%8116%E5%8F%B7%E7%BA%BF\n",
      "17开始爬取了的url/item/%E5%8C%97%E4%BA%AC%E5%9C%B0%E9%93%81%E5%85%AB%E9%80%9A%E7%BA%BF\n",
      "17爬取到数据的url/item/%E5%8C%97%E4%BA%AC%E5%9C%B0%E9%93%81%E5%85%AB%E9%80%9A%E7%BA%BF\n",
      "18开始爬取了的url/item/%E5%8C%97%E4%BA%AC%E5%9C%B0%E9%93%81%E6%98%8C%E5%B9%B3%E7%BA%BF\n",
      "18爬取到数据的url/item/%E5%8C%97%E4%BA%AC%E5%9C%B0%E9%93%81%E6%98%8C%E5%B9%B3%E7%BA%BF\n",
      "19开始爬取了的url/item/%E5%8C%97%E4%BA%AC%E5%9C%B0%E9%93%81%E4%BA%A6%E5%BA%84%E7%BA%BF\n",
      "19爬取到数据的url/item/%E5%8C%97%E4%BA%AC%E5%9C%B0%E9%93%81%E4%BA%A6%E5%BA%84%E7%BA%BF\n",
      "20开始爬取了的url/item/%E5%8C%97%E4%BA%AC%E5%9C%B0%E9%93%81%E6%88%BF%E5%B1%B1%E7%BA%BF\n",
      "20爬取到数据的url/item/%E5%8C%97%E4%BA%AC%E5%9C%B0%E9%93%81%E6%88%BF%E5%B1%B1%E7%BA%BF\n",
      "21开始爬取了的url/item/%E5%8C%97%E4%BA%AC%E5%9C%B0%E9%93%81S1%E7%BA%BF\n",
      "21爬取到数据的url/item/%E5%8C%97%E4%BA%AC%E5%9C%B0%E9%93%81S1%E7%BA%BF\n",
      "22开始爬取了的url/item/%E5%8C%97%E4%BA%AC%E5%9C%B0%E9%93%81%E7%87%95%E6%88%BF%E7%BA%BF\n",
      "defaultdict(<class 'list'>, {'黑石头站': ['高井站'], '高井站': ['黑石头站', '福寿岭站'], '福寿岭站': ['高井站', '苹果园站'], '苹果园站': ['福寿岭站', '古城站', '金安桥站', '杨庄站', '金安桥站'], '古城站': ['苹果园站', '衙门口站'], '衙门口站': ['古城站', '八角游乐园站'], '八角游乐园站': ['衙门口站', '八宝山站'], '八宝山站': ['八角游乐园站', '玉泉路站'], '玉泉路站': ['八宝山站', '五棵松站'], '五棵松站': ['玉泉路站', '万寿路站'], '万寿路站': ['五棵松站', '公主坟站'], '公主坟站': ['万寿路站', '军事博物馆站', '莲花桥站', '西钓鱼台站'], '军事博物馆站': ['公主坟站', '木樨地站', '北京西站', '白堆子站'], '木樨地站': ['军事博物馆站', '南礼士路站', '达官营站', '玉渊潭东门站'], '南礼士路站': ['木樨地站', '复兴门站'], '复兴门站': ['南礼士路站', '西单站', '长椿街站', '阜成门站'], '西单站': ['复兴门站', '天安门西站', '宣武门站', '灵境胡同站'], '天安门西站': ['西单站', '天安门东站'], '天安门东站': ['天安门西站', '王府井站'], '王府井站': ['天安门东站', '东单站', '中国美术馆站', '前门站', '中国美术馆站', '前门站'], '东单站': ['王府井站', '建国门站', '崇文门站', '灯市口站'], '建国门站': ['东单站', '永安里站', '朝阳门站', '北京站'], '永安里站': ['建国门站', '国贸站'], '国贸站': ['永安里站', '大望路站', '金台夕照站', '双井站'], '大望路站': ['国贸站', '四惠站', '九龙山站', '红庙站', '九龙山站', '红庙站'], '四惠站': ['大望路站', '四惠东站', '四惠东站'], '四惠东站': ['四惠站', '高碑店站', '四惠站', '高碑店站'], '高碑店站': ['四惠东站', '传媒大学站', '四惠东站', '传媒大学站'], '传媒大学站': ['高碑店站', '双桥站', '高碑店站', '双桥站'], '双桥站': ['传媒大学站', '管庄站', '传媒大学站', '管庄站'], '管庄站': ['双桥站', '八里桥站', '双桥站', '八里桥站'], '八里桥站': ['管庄站', '通州北苑站', '管庄站', '通州北苑站'], '通州北苑站': ['八里桥站', '果园站', '八里桥站', '果园站'], '果园站': ['通州北苑站', '九棵树站', '通州北苑站', '九棵树站'], '九棵树站': ['果园站', '梨园站', '果园站', '梨园站'], '梨园站': ['九棵树站', '临河里站', '九棵树站', '临河里站'], '临河里站': ['梨园站', '土桥站', '梨园站', '土桥站'], '土桥站': ['临河里站', '花庄站', '临河里站'], '花庄站': ['土桥站', '环球度假区站'], '环球度假区站': ['花庄站'], '西直门站': ['积水潭站', '车公庄站', '新街口站', '动物园站', '明光桥西站'], '积水潭站': ['西直门站', '鼓楼大街站'], '鼓楼大街站': ['积水潭站', '安定门站', '安德里北街站', '什刹海站', '安德里北街站', '什刹海站'], '安定门站': ['鼓楼大街站', '雍和宫站'], '雍和宫站': ['安定门站', '东直门站', '北新桥站', '和平里北街站'], '东直门站': ['雍和宫站', '东四十条站', '柳芳站'], '东四十条站': ['东直门站', '朝阳门站'], '朝阳门站': ['东四十条站', '建国门站', '东四站', '东大桥站'], '北京站': ['建国门站', '崇文门站'], '崇文门站': ['北京站', '前门站', '磁器口站', '东单站'], '前门站': ['崇文门站', '和平门站', '王府井站', '珠市口站', '王府井站', '珠市口站'], '和平门站': ['前门站', '中南海站'], '中南海站': ['和平门站', '人民大会堂站'], '人民大会堂站': ['中南海站', '宣武门站'], '宣武门站': ['人民大会堂站', '长椿街站', '菜市口站', '西单站'], '长椿街站': ['宣武门站', '复兴门站'], '阜成门站': ['复兴门站', '车公庄站'], '车公庄站': ['阜成门站', '西直门站', '车公庄西站', '平安里站'], '公益西桥站': ['角门西站'], '角门西站': ['公益西桥站', '马家堡站', '角门东站', '草桥站'], '马家堡站': ['角门西站', '北京南站'], '北京南站': ['马家堡站', '陶然亭站', '景风门站', '陶然桥站', '景风门站', '陶然桥站'], '陶然亭站': ['北京南站', '菜市口站'], '菜市口站': ['陶然亭站', '宣武门站', '广安门内站', '虎坊桥站'], '灵境胡同站': ['西单站', '西四站'], '西四站': ['灵境胡同站', '平安里站'], '平安里站': ['西四站', '新街口站', '车公庄站', '北海北站'], '新街口站': ['平安里站', '西直门站'], '动物园站': ['西直门站', '国家图书馆站'], '国家图书馆站': ['动物园站', '魏公村站', '白石桥南站', '二里沟站', '万寿寺站'], '魏公村站': ['国家图书馆站', '人民大学站'], '人民大学站': ['魏公村站', '海淀黄庄站'], '海淀黄庄站': ['人民大学站', '中关村站', '苏州街站', '知春里站'], '中关村站': ['海淀黄庄站', '北京大学东门站'], '北京大学东门站': ['中关村站', '圆明园站'], '圆明园站': ['北京大学东门站', '西苑站'], '西苑站': ['圆明园站', '北宫门站', '万泉河桥站', '农大南路站'], '北宫门站': ['西苑站', '安河桥北站'], '安河桥北站': ['北宫门站'], '宋家庄站': ['刘家窑站', '成寿寺站', '石榴庄站', '肖村站'], '刘家窑站': ['宋家庄站', '蒲黄榆站'], '蒲黄榆站': ['刘家窑站', '天坛东门站', '景泰站', '方庄站', '景泰站', '方庄站'], '天坛东门站': ['蒲黄榆站', '磁器口站'], '磁器口站': ['天坛东门站', '崇文门站', '桥湾站', '广渠门内站'], '灯市口站': ['东单站', '东四站'], '东四站': ['灯市口站', '张自忠路站', '南锣鼓巷站', '朝阳门站'], '张自忠路站': ['东四站', '北新桥站'], '北新桥站': ['张自忠路站', '雍和宫站'], '和平里北街站': ['雍和宫站', '和平西桥站'], '和平西桥站': ['和平里北街站', '惠新西街南口站'], '惠新西街南口站': ['和平西桥站', '惠新西街北口站', '安贞门站', '芍药居站'], '惠新西街北口站': ['惠新西街南口站', '大屯路东站'], '大屯路东站': ['惠新西街北口站', '北苑路北站', '安立路站', '关庄站'], '北苑路北站': ['大屯路东站', '立水桥南站'], '立水桥南站': ['北苑路北站', '立水桥站'], '立水桥站': ['立水桥南站', '天通苑南站', '建材城东路站', '北苑站'], '天通苑南站': ['立水桥站', '天通苑站'], '天通苑站': ['天通苑南站', '天通苑北站'], '天通苑北站': ['天通苑站', '平西府站'], '平西府站': ['天通苑北站', '平坊站', '育知路站', '回龙观东大街站', '育知路站', '回龙观东大街站'], '平坊站': ['平西府站', '东沙各庄站'], '东沙各庄站': ['平坊站', '太阳城站'], '太阳城站': ['东沙各庄站', '马坊站'], '马坊站': ['太阳城站', '大柳树站'], '大柳树站': ['马坊站', '小汤山站'], '小汤山站': ['大柳树站'], '金安桥站': ['苹果园站', '苹果园站', '四道桥站'], '杨庄站': ['苹果园站', '西黄村站'], '西黄村站': ['杨庄站', '廖公庄站'], '廖公庄站': ['西黄村站', '田村站'], '田村站': ['廖公庄站', '海淀五路居站'], '海淀五路居站': ['田村站', '慈寿寺站'], '慈寿寺站': ['海淀五路居站', '花园桥站', '西钓鱼台站', '车道沟站'], '花园桥站': ['慈寿寺站', '白石桥南站'], '白石桥南站': ['花园桥站', '二里沟站', '白堆子站', '国家图书馆站'], '二里沟站': ['白石桥南站', '车公庄西站', '甘家口站', '国家图书馆站'], '车公庄西站': ['二里沟站', '车公庄站'], '北海北站': ['平安里站', '南锣鼓巷站'], '南锣鼓巷站': ['北海北站', '东四站', '什刹海站', '中国美术馆站', '什刹海站', '中国美术馆站'], '东大桥站': ['朝阳门站', '呼家楼站'], '呼家楼站': ['东大桥站', '金台路站', '团结湖站', '金台夕照站'], '金台路站': ['呼家楼站', '十里堡站', '红庙站', '朝阳公园站', '红庙站', '朝阳公园站'], '十里堡站': ['金台路站', '青年路站'], '青年路站': ['十里堡站', '褡裢坡站'], '褡裢坡站': ['青年路站', '黄渠站'], '黄渠站': ['褡裢坡站', '常营站'], '常营站': ['黄渠站', '草房站'], '草房站': ['常营站', '物资学院路站'], '物资学院路站': ['草房站', '通州北关站'], '通州北关站': ['物资学院路站', '通运门站'], '通运门站': ['通州北关站', '北运河西站'], '北运河西站': ['通运门站', '北运河东站'], '北运河东站': ['北运河西站', '郝家府站'], '郝家府站': ['北运河东站', '东夏园站'], '东夏园站': ['郝家府站', '潞城站'], '潞城站': ['东夏园站'], '北京西站': ['湾子站', '六里桥东站', '军事博物馆站'], '湾子站': ['北京西站', '达官营站'], '达官营站': ['湾子站', '广安门内站', '红莲南里站', '木樨地站'], '广安门内站': ['达官营站', '菜市口站'], '虎坊桥站': ['菜市口站', '珠市口站'], '珠市口站': ['虎坊桥站', '桥湾站', '前门站', '天桥站', '前门站', '天桥站'], '桥湾站': ['珠市口站', '磁器口站'], '广渠门内站': ['磁器口站', '广渠门外站'], '广渠门外站': ['广渠门内站', '双井站'], '双井站': ['广渠门外站', '九龙山站', '国贸站', '劲松站'], '九龙山站': ['双井站', '大郊亭站', '平乐园站', '大望路站', '平乐园站', '大望路站'], '大郊亭站': ['九龙山站', '百子湾站'], '百子湾站': ['大郊亭站', '化工站'], '化工站': ['百子湾站', '南楼梓庄站'], '南楼梓庄站': ['化工站', '欢乐谷景区站'], '欢乐谷景区站': ['南楼梓庄站', '垡头站'], '垡头站': ['欢乐谷景区站', '双合站'], '双合站': ['垡头站', '焦化厂站'], '焦化厂站': ['双合站', '黄厂村站'], '黄厂村站': ['焦化厂站', '豆各庄站'], '豆各庄站': ['黄厂村站', '黑庄户站'], '黑庄户站': ['豆各庄站', '万盛南街西口站'], '万盛南街西口站': ['黑庄户站', '云景东路站'], '云景东路站': ['万盛南街西口站', '小马庄站'], '小马庄站': ['云景东路站', '高楼金站'], '高楼金站': ['小马庄站', '施园站'], '施园站': ['高楼金站', '环球影城站'], '环球影城站': ['施园站'], '朱辛庄站': ['育知路站', '育知路站', '巩华城站', '生命科学园站'], '育知路站': ['朱辛庄站', '平西府站', '朱辛庄站', '平西府站'], '回龙观东大街站': ['平西府站', '霍营站', '平西府站', '霍营站'], '霍营站': ['回龙观东大街站', '育新站', '回龙观东大街站', '育新站', '回龙观站', '建材城东路站'], '育新站': ['霍营站', '西小口站', '霍营站', '西小口站'], '西小口站': ['育新站', '永泰庄站', '育新站', '永泰庄站'], '永泰庄站': ['西小口站', '林萃桥站', '西小口站', '林萃桥站'], '林萃桥站': ['永泰庄站', '森林公园南门站', '永泰庄站', '森林公园南门站'], '森林公园南门站': ['林萃桥站', '奥林匹克公园站', '林萃桥站', '奥林匹克公园站'], '奥林匹克公园站': ['森林公园南门站', '奥体中心站', '森林公园南门站', '奥体中心站', '北沙滩站', '安立路站'], '奥体中心站': ['奥林匹克公园站', '北土城站', '奥林匹克公园站', '北土城站'], '北土城站': ['奥体中心站', '安华桥站', '奥体中心站', '安华桥站', '健德门站', '安贞门站'], '安华桥站': ['北土城站', '安德里北街站', '北土城站', '安德里北街站'], '安德里北街站': ['安华桥站', '鼓楼大街站', '安华桥站', '鼓楼大街站'], '什刹海站': ['鼓楼大街站', '南锣鼓巷站', '鼓楼大街站', '南锣鼓巷站'], '中国美术馆站': ['南锣鼓巷站', '王府井站', '南锣鼓巷站', '王府井站'], '天桥站': ['珠市口站', '永定门外站', '珠市口站', '永定门外站'], '永定门外站': ['天桥站', '木樨园站', '天桥站', '木樨园站', '陶然桥站', '景泰站', '陶然桥站', '景泰站'], '木樨园站': ['永定门外站', '海户屯站', '永定门外站', '海户屯站'], '海户屯站': ['木樨园站', '大红门站', '木樨园站', '大红门站'], '大红门站': ['海户屯站', '大红门南站', '海户屯站', '大红门南站', '石榴庄站', '角门东站'], '大红门南站': ['大红门站', '和义站', '大红门站', '和义站'], '和义站': ['大红门南站', '东高地站', '大红门南站', '东高地站'], '东高地站': ['和义站', '火箭万源站', '和义站', '火箭万源站'], '火箭万源站': ['东高地站', '五福堂站', '东高地站', '五福堂站'], '五福堂站': ['火箭万源站', '德茂站', '火箭万源站', '德茂站'], '德茂站': ['五福堂站', '瀛海站', '五福堂站', '瀛海站'], '瀛海站': ['德茂站', '瀛海南站', '德茂站', '瀛海南站'], '瀛海南站': ['瀛海站', '瀛海站'], '郭公庄站': ['丰台科技园站', '大葆台站'], '丰台科技园站': ['郭公庄站', '科怡路站'], '科怡路站': ['丰台科技园站', '丰台南路站'], '丰台南路站': ['科怡路站', '丰台东大街站', '富丰桥站', '丰台站'], '丰台东大街站': ['丰台南路站', '七里庄站'], '七里庄站': ['丰台东大街站', '六里桥站', '大井站', '西局站', '大井站', '西局站'], '六里桥站': ['七里庄站', '六里桥东站', '西局站', '莲花桥站'], '六里桥东站': ['六里桥站', '北京西站'], '白堆子站': ['军事博物馆站', '白石桥南站'], '巴沟站': ['苏州街站', '火器营站'], '苏州街站': ['巴沟站', '海淀黄庄站', '苏州桥站', '万泉河桥站'], '知春里站': ['海淀黄庄站', '知春路站'], '知春路站': ['知春里站', '西土城站', '大钟寺站', '五道口站'], '西土城站': ['知春路站', '牡丹园站'], '牡丹园站': ['西土城站', '健德门站'], '健德门站': ['牡丹园站', '北土城站'], '安贞门站': ['北土城站', '惠新西街南口站'], '芍药居站': ['惠新西街南口站', '太阳宫站', '望和桥站', '光熙门站'], '太阳宫站': ['芍药居站', '三元桥站'], '三元桥站': ['太阳宫站', '亮马桥站'], '亮马桥站': ['三元桥站', '农业展览馆站'], '农业展览馆站': ['亮马桥站', '团结湖站'], '团结湖站': ['农业展览馆站', '呼家楼站'], '金台夕照站': ['呼家楼站', '国贸站'], '劲松站': ['双井站', '潘家园站'], '潘家园站': ['劲松站', '十里河站'], '十里河站': ['潘家园站', '分钟寺站', '方庄站', '北工大西门站', '方庄站', '北工大西门站'], '分钟寺站': ['十里河站', '成寿寺站'], '成寿寺站': ['分钟寺站', '宋家庄站'], '石榴庄站': ['宋家庄站', '大红门站'], '角门东站': ['大红门站', '角门西站'], '草桥站': ['角门西站', '纪家庙站'], '纪家庙站': ['草桥站', '首经贸站'], '首经贸站': ['纪家庙站', '丰台站'], '丰台站': ['首经贸站', '泥洼站', '丰台南路站', '丰益桥南站'], '泥洼站': ['丰台站', '西局站'], '西局站': ['泥洼站', '六里桥站', '七里庄站', '东管头站', '七里庄站', '东管头站'], '莲花桥站': ['六里桥站', '公主坟站'], '西钓鱼台站': ['公主坟站', '慈寿寺站'], '车道沟站': ['慈寿寺站', '长春桥站'], '长春桥站': ['车道沟站', '火器营站'], '火器营站': ['长春桥站', '巴沟站'], '明光桥西站': ['西直门站', '大钟寺站'], '大钟寺站': ['明光桥西站', '知春路站'], '五道口站': ['知春路站', '清华东路西口站'], '清华东路西口站': ['五道口站', '上地站', '六道口站'], '上地站': ['清华东路西口站', '清河站'], '清河站': ['上地站', '西二旗站'], '西二旗站': ['清河站', '龙泽站', '生命科学园站'], '龙泽站': ['西二旗站', '回龙观站'], '回龙观站': ['龙泽站', '霍营站'], '建材城东路站': ['霍营站', '立水桥站'], '北苑站': ['立水桥站', '来广营西站'], '来广营西站': ['北苑站', '望京西站'], '望京西站': ['来广营西站', '望和桥站', '关庄站', '望京站'], '望和桥站': ['望京西站', '芍药居站'], '光熙门站': ['芍药居站', '柳芳站'], '柳芳站': ['光熙门站', '东直门站'], '园博园站': ['大瓦窑站', '大瓦窑站'], '大瓦窑站': ['园博园站', '郭庄子站', '园博园站', '郭庄子站'], '郭庄子站': ['大瓦窑站', '大井站', '大瓦窑站', '大井站'], '大井站': ['郭庄子站', '七里庄站', '郭庄子站', '七里庄站'], '东管头站': ['西局站', '丽泽商务区站', '西局站', '丽泽商务区站'], '丽泽商务区站': ['东管头站', '菜户营站', '东管头站', '菜户营站', '丰益桥南站', '红莲南里站'], '菜户营站': ['丽泽商务区站', '西铁营站', '丽泽商务区站', '西铁营站'], '西铁营站': ['菜户营站', '景风门站', '菜户营站', '景风门站'], '景风门站': ['西铁营站', '北京南站', '西铁营站', '北京南站'], '陶然桥站': ['北京南站', '永定门外站', '北京南站', '永定门外站'], '景泰站': ['永定门外站', '蒲黄榆站', '永定门外站', '蒲黄榆站'], '方庄站': ['蒲黄榆站', '十里河站', '蒲黄榆站', '十里河站'], '北工大西门站': ['十里河站', '平乐园站', '十里河站', '平乐园站'], '平乐园站': ['北工大西门站', '九龙山站', '北工大西门站', '九龙山站'], '红庙站': ['大望路站', '金台路站', '大望路站', '金台路站'], '朝阳公园站': ['金台路站', '枣营站', '金台路站', '枣营站'], '枣营站': ['朝阳公园站', '东风北桥站', '朝阳公园站', '东风北桥站'], '东风北桥站': ['枣营站', '将台站', '枣营站', '将台站'], '将台站': ['东风北桥站', '高家园站', '东风北桥站', '高家园站'], '高家园站': ['将台站', '望京南站', '将台站', '望京南站'], '望京南站': ['高家园站', '阜通站', '高家园站', '阜通站'], '阜通站': ['望京南站', '望京站', '望京南站', '望京站'], '望京站': ['阜通站', '东湖渠站', '阜通站', '东湖渠站', '望京西站', '望京东站'], '东湖渠站': ['望京站', '来广营站', '望京站', '来广营站'], '来广营站': ['东湖渠站', '善各庄站', '东湖渠站', '善各庄站'], '善各庄站': ['来广营站', '来广营站'], '六道口站': ['清华东路西口站', '北沙滩站'], '北沙滩站': ['六道口站', '奥林匹克公园站'], '安立路站': ['奥林匹克公园站', '大屯路东站'], '关庄站': ['大屯路东站', '望京西站'], '望京东站': ['望京站', '崔各庄站'], '崔各庄站': ['望京东站', '马泉营站'], '马泉营站': ['崔各庄站', '孙河站'], '孙河站': ['马泉营站', '国展站'], '国展站': ['孙河站', '花梨坎站'], '花梨坎站': ['国展站', '后沙峪站'], '后沙峪站': ['花梨坎站', '南法信站'], '南法信站': ['后沙峪站', '石门站'], '石门站': ['南法信站', '顺义站'], '顺义站': ['石门站', '俸伯站'], '俸伯站': ['顺义站'], '宛平站': ['榆树庄站'], '榆树庄站': ['宛平站', '看丹站'], '看丹站': ['榆树庄站', '富丰桥站'], '富丰桥站': ['看丹站', '丰台南路站'], '丰益桥南站': ['丰台站', '丽泽商务区站'], '红莲南里站': ['丽泽商务区站', '达官营站'], '玉渊潭东门站': ['木樨地站', '甘家口站'], '甘家口站': ['玉渊潭东门站', '二里沟站'], '万寿寺站': ['国家图书馆站', '苏州桥站'], '苏州桥站': ['万寿寺站', '苏州街站'], '万泉河桥站': ['苏州街站', '西苑站'], '农大南路站': ['西苑站', '马连洼站'], '马连洼站': ['农大南路站', '西北旺站'], '西北旺站': ['马连洼站', '永丰南站'], '永丰南站': ['西北旺站', '永丰站'], '永丰站': ['永丰南站', '屯佃站'], '屯佃站': ['永丰站', '稻香湖路站'], '稻香湖路站': ['屯佃站', '温阳路站'], '温阳路站': ['稻香湖路站', '北安河站'], '北安河站': ['温阳路站'], '昌平西山口站': ['十三陵景区站'], '十三陵景区站': ['昌平西山口站', '昌平站'], '昌平站': ['十三陵景区站', '昌平东关站'], '昌平东关站': ['昌平站', '北邵洼站'], '北邵洼站': ['昌平东关站', '南邵站'], '南邵站': ['北邵洼站', '沙河高教园站'], '沙河高教园站': ['南邵站', '沙河站'], '沙河站': ['沙河高教园站', '巩华城站'], '巩华城站': ['沙河站', '朱辛庄站'], '生命科学园站': ['朱辛庄站', '西二旗站'], '肖村站': ['宋家庄站', '小红门站'], '小红门站': ['肖村站', '旧宫站'], '旧宫站': ['小红门站', '亦庄桥站'], '亦庄桥站': ['旧宫站', '亦庄文化园站'], '亦庄文化园站': ['亦庄桥站', '万源街站'], '万源街站': ['亦庄文化园站', '荣京东街站'], '荣京东街站': ['万源街站', '荣昌东街站'], '荣昌东街站': ['荣京东街站', '同济南路站'], '同济南路站': ['荣昌东街站', '经海路站'], '经海路站': ['同济南路站', '次渠南站'], '次渠南站': ['经海路站', '次渠站'], '次渠站': ['次渠南站', '亦庄火车站'], '亦庄火车站': ['次渠站'], '大葆台站': ['郭公庄站', '稻田站'], '稻田站': ['大葆台站', '长阳站'], '长阳站': ['稻田站', '篱笆房站'], '篱笆房站': ['长阳站', '广阳城站'], '广阳城站': ['篱笆房站', '良乡大学城北站'], '良乡大学城北站': ['广阳城站', '良乡大学城站'], '良乡大学城站': ['良乡大学城北站', '良乡大学城西站'], '良乡大学城西站': ['良乡大学城站', '良乡南关站'], '良乡南关站': ['良乡大学城西站', '苏庄站'], '苏庄站': ['良乡南关站', '阎村东站'], '阎村东站': ['苏庄站'], '四道桥站': ['金安桥站', '桥户营站'], '桥户营站': ['四道桥站', '上岸站'], '上岸站': ['桥户营站', '栗园庄站'], '栗园庄站': ['上岸站', '小园站'], '小园站': ['栗园庄站', '石厂站'], '石厂站': ['小园站']})\n"
     ]
    }
   ],
   "source": [
    "from bs4 import BeautifulSoup\n",
    "import requests\n",
    "import re\n",
    "from collections import defaultdict\n",
    "\n",
    "base_url = \"https://baike.baidu.com\"\n",
    "headers = {\"User-Agent\" : \"User-Agent:Mozilla/5.0 (compatible; MSIE 9.0; Windows NT 6.1; Trident/5.0;\"}\n",
    "html = requests.get(base_url + '/item/%E5%8C%97%E4%BA%AC%E5%9C%B0%E9%93%81/408485', headers=headers).text\n",
    "\n",
    "soup = BeautifulSoup(html)\n",
    "\n",
    "tds = soup.select(\"body > div.body-wrapper > div.content-wrapper > div > div.main-content > table:nth-child(66) tr td:nth-child(1)\")\n",
    "\n",
    "site_maps = defaultdict(list)\n",
    "\n",
    "def get_sites(element, ):\n",
    "    table_tds = element.select('tr td:nth-child(1)')\n",
    "    sites = [td.text.strip() for td in table_tds if len(td.text.strip()) >= 2 and td.text.strip()[-1] == '站' ]\n",
    "\n",
    "    if len(sites) < 1:\n",
    "        table_tds = element.select('tr td:nth-child(2)')\n",
    "        sites = [td.text.strip() for td in table_tds if len(td.text.strip()) >= 2 and td.text.strip()[-1] == '站' ]\n",
    "\n",
    "    return sites\n",
    "\n",
    "count= 1\n",
    "for td in tds:\n",
    "    a = td.find('a', href=True)\n",
    "    if a:\n",
    "        sub_url = td.a['href']\n",
    "        if sub_url:\n",
    "            count += 1\n",
    "            print(str(count) + \"开始爬取了的url\"+sub_url)\n",
    "            response = requests.get(base_url + sub_url, headers=headers)\n",
    "            response.encoding ='utf-8'\n",
    "            html_detail = response.text\n",
    "            soup_detail = BeautifulSoup(html_detail)\n",
    "\n",
    "            sites = []\n",
    "            for caption in soup_detail.find_all('caption'):\n",
    "                if \"号线车站列表\" in caption.text:\n",
    "                    sites = get_sites(caption.parent)\n",
    "\n",
    "                # 通过首末车时刻表来抓取\n",
    "                if len(sites) < 1:\n",
    "                    if \"首末车时刻表\" in caption.text:\n",
    "                        table_tds = caption.parent.select('tr th:nth-child(1)')\n",
    "                        sites = [td.text.strip() for td in table_tds]\n",
    "                        sites = [site for site in sites if site != '车站名称']\n",
    "\n",
    "                if len(sites) > 0:\n",
    "                    break\n",
    "\n",
    "\n",
    "            # https://baike.baidu.com/item/%E5%8C%97%E4%BA%AC%E5%9C%B0%E9%93%8116%E5%8F%B7%E7%BA%BF\n",
    "            if len(sites) < 1:\n",
    "                tables = soup_detail.find_all('th', text=\"车站名称\")\n",
    "                if len(tables) > 0:\n",
    "                    sites = get_sites(tables[0].parent.parent)\n",
    "\n",
    "                    if len(sites) == 0:\n",
    "                        sites = tables[-1].parent.parent.select('tr th:nth-child(1)')\n",
    "                        sites = [td.text.strip() for td in table_tds]\n",
    "                        sites = [site for site in sites if site != '车站名称']\n",
    "\n",
    "            # https://baike.baidu.com/item/%E5%8C%97%E4%BA%AC%E5%9C%B0%E9%93%81%E4%BA%A6%E5%BA%84%E7%BA%BF\n",
    "            # 还有问题\n",
    "\n",
    "            if len(sites) > 0:\n",
    "                print(str(count) + \"爬取到数据的url\" + sub_url)\n",
    "\n",
    "            sites = [site if '站' == site[-1] else site + '站' for site in sites if len(site) <= 10 and len(site) >= 2]\n",
    "            for i in range(len(sites) - 1):\n",
    "                site_maps[sites[i]].append(sites[i + 1])\n",
    "                site_maps[sites[i + 1]].append(sites[i])\n",
    "\n",
    "\n",
    "print(site_maps)"
   ]
  },
  {
   "cell_type": "markdown",
   "metadata": {},
   "source": [
    "##### 2.\tPreprocessing data from page source.\n",
    "\n",
    "> a.\tBased on the page source gotten from url. You may need some more preprocessing of the page. \n",
    "\n",
    "> b.\tthe Regular Expression you may need to process the text information.\n",
    "\n",
    "> c.\tYou may need @package networkx, @package matplotlib to visualize data. \n",
    "\n",
    "> d.\tYou should build a dictionary or graph which could represent the connection information of Beijing subway routes. \n",
    "\n",
    "> e.\tYou may need the defaultdict, set data structures to implement this procedure. "
   ]
  },
  {
   "cell_type": "code",
   "execution_count": 22,
   "metadata": {},
   "outputs": [
    {
     "name": "stdout",
     "output_type": "stream",
     "text": [
      "积水潭站->鼓楼大街站->安定门站\n",
      "积水潭站->鼓楼大街站->什刹海站->南锣鼓巷站->东四站->张自忠路站->北新桥站->雍和宫站->安定门站\n",
      "知春里站->知春路站->大钟寺站->明光桥西站->西直门站->积水潭站->鼓楼大街站->安定门站->雍和宫站->东直门站\n",
      "知春里站->知春路站->西土城站->牡丹园站->健德门站->北土城站->安贞门站->惠新西街南口站->芍药居站->光熙门站->柳芳站->东直门站\n",
      "知春里站->知春路站->大钟寺站->明光桥西站->西直门站->积水潭站->鼓楼大街站->什刹海站->南锣鼓巷站->东四站->朝阳门站->东四十条站->东直门站\n"
     ]
    }
   ],
   "source": [
    "def search(start, end):\n",
    "    if start not in site_maps:\n",
    "        return '起始点错误'\n",
    "    \n",
    "    visited = set()\n",
    "    routes = [[start]]\n",
    "    res = []\n",
    "    while routes:\n",
    "        route = routes.pop(0)\n",
    "#         print(route)\n",
    "#         print(visited)\n",
    "        current = route[-1]\n",
    "        if current in visited: continue    \n",
    "            \n",
    "        for site in site_maps[current]:\n",
    "            if site in route: continue\n",
    "                \n",
    "            new_route = route + [site]\n",
    "            if site == end:\n",
    "                res.append(new_route)\n",
    "            else:   \n",
    "                routes.append(new_route)\n",
    "            \n",
    "        visited.add(current)\n",
    "\n",
    "    return res\n",
    "\n",
    "def wrapper_print(routes):\n",
    "    for route in routes:\n",
    "        print('->'.join(route))\n",
    "    \n",
    "def get_shortest_route(routes):\n",
    "    return sorted(routes, key=len)\n",
    "\n",
    "wrapper_print(get_shortest_route(search('积水潭站', '安定门站')))\n",
    "wrapper_print(search('知春里站', '东直门站'))\n",
    "            "
   ]
  },
  {
   "cell_type": "markdown",
   "metadata": {},
   "source": [
    "##### 3. Build the search agent\n",
    "\n",
    "> Build the search agent based on the graph we build.\n",
    "\n",
    "for example, when you run: \n",
    "\n",
    "```python\n",
    ">>> search('奥体中心', '天安门') \n",
    "```\n",
    "you need get the result: \n",
    "\n",
    "奥体中心-> A -> B -> C -> ... -> 天安门\n",
    "\n"
   ]
  },
  {
   "cell_type": "markdown",
   "metadata": {},
   "source": [
    "## （Optional）Create different policies for transfer system.\n"
   ]
  },
  {
   "cell_type": "markdown",
   "metadata": {},
   "source": [
    "以下部门为可选部分，请酌情完成。 并不要求全部同学完成。"
   ]
  },
  {
   "cell_type": "markdown",
   "metadata": {},
   "source": [
    "As much as you can to use the already implemented search agent. You just need to define the **is_goal()**, **get_successor()**, **strategy()** three functions. \n",
    "\n",
    "> a.\tDefine different policies for transfer system. \n",
    "\n",
    "> b.\tSuch as Shortest Path Priority（路程最短优先）, Minimum Transfer Priority(最少换乘优先), Comprehensive Priority(综合优先)\n",
    "\n",
    "> c.\tImplement Continuous transfer. Based on the Agent you implemented, please add this feature: Besides the @param start and @param destination two stations, add some more stations, we called @param by_way, it means, our path should from the start and end, but also include the  @param by_way stations. \n",
    "\n",
    "e.g \n",
    "```\n",
    "1. Input:  start=A,  destination=B, by_way=[C] \n",
    "    Output: [A, … .., C, …. B]\n",
    "2. Input: start=A, destination=B, by_way=[C, D, E]\n",
    "    Output: [A … C … E … D … B]  \n",
    "    # based on your policy, the E station could be reached firstly. \n",
    "![image.png](attachment:image.png)\n",
    "```"
   ]
  },
  {
   "cell_type": "markdown",
   "metadata": {},
   "source": [
    "##### 5.\tTest your result with commercial applications. \n",
    "\n",
    "将你的结果和高德地图或者百度地图进行比较，如果有不同，请分析原因\n"
   ]
  },
  {
   "cell_type": "markdown",
   "metadata": {},
   "source": [
    "恭喜，完成本次课程，你对常用的人工智能方法以及有一定的了解了。基于规则的，基于概率模型的，基于搜索的，基于机器学习的。 可以说，我们现在通常见到的方法都能够归属到这几类方法中。 这就是**人工智能**，并没有很难是吧？ 继续加油！"
   ]
  },
  {
   "cell_type": "markdown",
   "metadata": {},
   "source": [
    "![](https://timgsa.baidu.com/timg?image&quality=80&size=b9999_10000&sec=1562415163815&di=4b29a2a863a8285212033760f288ed7a&imgtype=0&src=http%3A%2F%2F5b0988e595225.cdn.sohucs.com%2Fimages%2F20180710%2F8704194a1d7f46a383ddc29d40c9bca5.jpeg)"
   ]
  }
 ],
 "metadata": {
  "kernelspec": {
   "display_name": "Python 3",
   "language": "python",
   "name": "python3"
  }
 },
 "nbformat": 4,
 "nbformat_minor": 2
}
