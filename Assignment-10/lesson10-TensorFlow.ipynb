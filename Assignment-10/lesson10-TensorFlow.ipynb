{
 "cells": [
  {
   "cell_type": "code",
   "execution_count": 1,
   "metadata": {},
   "outputs": [],
   "source": [
    "class Node:\n",
    "    \"\"\"\n",
    "    Each node in neural networks will have these attributes and methods\n",
    "    \"\"\"\n",
    "    def __init__(self,inputs=[]):\n",
    "        \"\"\"\n",
    "        if the node is the operator of \"ax + b\", the inputs will be x node , and the outputs \n",
    "        of this is its successors. \n",
    "        \n",
    "        and the value is *ax + b*\n",
    "        \"\"\"\n",
    "        self.inputs=inputs\n",
    "        self.value=None\n",
    "        self.outputs=[]\n",
    "        self.gradients={}\n",
    "        \n",
    "        for node in self.inputs:\n",
    "            node.outputs.append(self)\n",
    "        \n",
    "    def forward(self):\n",
    "        \"\"\"Forward propogation\n",
    "        \n",
    "        compute the output value based on input nodes and store the value \n",
    "        into *self.value*\n",
    "        \"\"\"\n",
    "        raise NotImplemented\n",
    "        \n",
    "    def backward(self):\n",
    "        \"\"\" Back propogation\n",
    "        compute the gradient of each input node and store the value \n",
    "        into \"self.gredients\"\n",
    "        \"\"\"\n",
    "        raise NotImplemented"
   ]
  },
  {
   "cell_type": "code",
   "execution_count": 2,
   "metadata": {},
   "outputs": [],
   "source": [
    "class Input(Node):\n",
    "    def __init__(self,name=''):\n",
    "        Node.__init__(self,inputs=[])\n",
    "        self.name=name\n",
    "        \n",
    "    def forward(self,value=None):\n",
    "        if value is not None:\n",
    "            self.value = value\n",
    "    def backward(self):\n",
    "        self.gradients={}\n",
    "        \n",
    "        for n in self.outputs:\n",
    "            gradient_cost = n.gradients[self]\n",
    "            self.gradients[self]=gradient_cost\n",
    "    def __repr__(self):\n",
    "        return 'Input Node: {}'.format(self.name)"
   ]
  },
  {
   "cell_type": "code",
   "execution_count": 3,
   "metadata": {},
   "outputs": [],
   "source": [
    "class Linear(Node):\n",
    "    def __init__(self,nodes,weights,bias):\n",
    "        self.w_node = weights\n",
    "        self.x_node = nodes\n",
    "        self.b_node = bias\n",
    "        Node.__init__(self,inputs=[nodes,weights,bias])\n",
    "    def forward(self):\n",
    "        \"\"\"compute the wx + b using numpy\"\"\"\n",
    "        self.value = np.dot(self.x_node.value,self.w_node.value)+self.b_node.value\n",
    "        \n",
    "    def backward(self):\n",
    "        for n in self.outputs:\n",
    "            gradient_cost = n.gradients[self]\n",
    "            self.gradients[self.x_node] = np.dot(gradient_cost , self.w_node.value.T)\n",
    "            self.gradients[self.w_node] = np.dot(self.x_node.value.T ,gradient_cost)\n",
    "            self.gradients[self.b_node] = np.sum(gradient_cost*1,axis=0,keepdims=False)"
   ]
  },
  {
   "cell_type": "code",
   "execution_count": 4,
   "metadata": {},
   "outputs": [],
   "source": [
    "class sigmoid(Node):\n",
    "    def __init__(self,node):\n",
    "        Node.__init__(self,inputs=[node])\n",
    "        self.x_node = node\n",
    "    def _sigmoid(self,x):\n",
    "        return 1.0/(1+np.exp(-1*x))\n",
    "    def forward(self):\n",
    "        self.value = self._sigmoid(self.x_node.value)\n",
    "    def backward(self):\n",
    "        y=self.value\n",
    "        self.partial = y*(1-y)\n",
    "        for n in self.outputs:\n",
    "            gradient_cost = n.gradients[self]\n",
    "            self.gradients[self.x_node]=gradient_cost * self.partial"
   ]
  },
  {
   "cell_type": "code",
   "execution_count": 5,
   "metadata": {},
   "outputs": [],
   "source": [
    "class MSE(Node):\n",
    "    def __init__(self,y_true,y_hat):\n",
    "        self.y_true_node = y_true\n",
    "        self.y_hat_node = y_hat\n",
    "        Node.__init__(self,inputs=[y_true,y_hat])\n",
    "    def forward(self):\n",
    "        y_true_flatten = self.y_true_node.value.reshape(-1,1)\n",
    "        y_hat_flatten = self.y_hat_node.value.reshape(-1,1)\n",
    "        self.diff = y_true_flatten - y_hat_flatten\n",
    "        self.value = np.mean(self.diff **2)\n",
    "    def backward(self):\n",
    "        n=self.y_hat_node.value.shape[0]\n",
    "        self.gradients[self.y_true_node] = 2*self.diff/n\n",
    "        self.gradients[self.y_hat_node] = -2*self.diff/n\n",
    "        "
   ]
  },
  {
   "cell_type": "code",
   "execution_count": 6,
   "metadata": {},
   "outputs": [],
   "source": [
    "def toplogical_sort(data_with_value):\n",
    "    feed_dict=data_with_value\n",
    "    input_nodes = [n for n in feed_dict.keys()]\n",
    "    #print(input_nodes)\n",
    "    G={}\n",
    "    nodes = [n for n in input_nodes]\n",
    "    #print(nodes)\n",
    "    while(len(nodes)>0):\n",
    "        n=nodes.pop(0)\n",
    "        if n not in G:\n",
    "            G[n]={'in':set(),'out':set()}\n",
    "        for m in n.outputs:\n",
    "            if m not in G:\n",
    "                G[m]={'in':set(),'out':set()}\n",
    "            G[m]['in'].add(n)\n",
    "            G[n]['out'].add(m)\n",
    "            nodes.append(m)\n",
    "    L = []\n",
    "    S = set(input_nodes)\n",
    "    while len(S) > 0:\n",
    "        n = S.pop()\n",
    "        if isinstance(n, Input):\n",
    "            n.value = feed_dict[n]\n",
    "        L.append(n)\n",
    "        for m in n.outputs:\n",
    "            G[n]['out'].remove(m)\n",
    "            G[m]['in'].remove(n)\n",
    "            # if no other incoming edges add to S\n",
    "            if len(G[m]['in']) == 0:\n",
    "                S.add(m)\n",
    "    #print('S is,,,',S)\n",
    "    #print('L is ,,,',L)\n",
    "    #print('G22 is ,,,',G)\n",
    "    return L"
   ]
  },
  {
   "cell_type": "code",
   "execution_count": 7,
   "metadata": {},
   "outputs": [],
   "source": [
    "from sklearn.datasets import load_boston\n",
    "import numpy as np\n",
    "from sklearn.utils import resample"
   ]
  },
  {
   "cell_type": "code",
   "execution_count": 8,
   "metadata": {},
   "outputs": [],
   "source": [
    "data = load_boston()"
   ]
  },
  {
   "cell_type": "code",
   "execution_count": 9,
   "metadata": {},
   "outputs": [],
   "source": [
    "X_=data['data']\n",
    "y_=data['target']"
   ]
  },
  {
   "cell_type": "code",
   "execution_count": 10,
   "metadata": {},
   "outputs": [
    {
     "data": {
      "text/plain": [
       "(506, 13)"
      ]
     },
     "execution_count": 10,
     "metadata": {},
     "output_type": "execute_result"
    }
   ],
   "source": [
    "X_.shape"
   ]
  },
  {
   "cell_type": "code",
   "execution_count": 11,
   "metadata": {},
   "outputs": [],
   "source": [
    "X_=(X_-np.mean(X_,axis=0))/np.std(X_,axis=0)"
   ]
  },
  {
   "cell_type": "code",
   "execution_count": 12,
   "metadata": {},
   "outputs": [
    {
     "data": {
      "text/plain": [
       "array([[-0.41978194,  0.28482986, -1.2879095 , ..., -1.45900038,\n",
       "         0.44105193, -1.0755623 ],\n",
       "       [-0.41733926, -0.48772236, -0.59338101, ..., -0.30309415,\n",
       "         0.44105193, -0.49243937],\n",
       "       [-0.41734159, -0.48772236, -0.59338101, ..., -0.30309415,\n",
       "         0.39642699, -1.2087274 ],\n",
       "       ...,\n",
       "       [-0.41344658, -0.48772236,  0.11573841, ...,  1.17646583,\n",
       "         0.44105193, -0.98304761],\n",
       "       [-0.40776407, -0.48772236,  0.11573841, ...,  1.17646583,\n",
       "         0.4032249 , -0.86530163],\n",
       "       [-0.41500016, -0.48772236,  0.11573841, ...,  1.17646583,\n",
       "         0.44105193, -0.66905833]])"
      ]
     },
     "execution_count": 12,
     "metadata": {},
     "output_type": "execute_result"
    }
   ],
   "source": [
    "X_"
   ]
  },
  {
   "cell_type": "code",
   "execution_count": 13,
   "metadata": {},
   "outputs": [],
   "source": [
    "n_features=X_.shape[1]"
   ]
  },
  {
   "cell_type": "code",
   "execution_count": 16,
   "metadata": {},
   "outputs": [
    {
     "data": {
      "text/plain": [
       "506"
      ]
     },
     "execution_count": 16,
     "metadata": {},
     "output_type": "execute_result"
    }
   ],
   "source": [
    "X_.shape[0]"
   ]
  },
  {
   "cell_type": "code",
   "execution_count": 14,
   "metadata": {},
   "outputs": [],
   "source": [
    "n_hidden=10"
   ]
  },
  {
   "cell_type": "code",
   "execution_count": 17,
   "metadata": {},
   "outputs": [],
   "source": [
    "W1_,b1_ = np.random.randn(n_features,n_hidden),np.zeros(n_hidden)"
   ]
  },
  {
   "cell_type": "code",
   "execution_count": 18,
   "metadata": {},
   "outputs": [],
   "source": [
    "W2_,b2_=np.random.randn(n_hidden,1),np.zeros(1)"
   ]
  },
  {
   "cell_type": "code",
   "execution_count": 19,
   "metadata": {},
   "outputs": [],
   "source": [
    "X,y=Input(name='X'),Input(name='y')\n",
    "W1,b1 = Input(name='W1'),Input(name='b1')\n",
    "W2,b2 = Input(name='W2'),Input(name='b2')"
   ]
  },
  {
   "cell_type": "code",
   "execution_count": 22,
   "metadata": {},
   "outputs": [],
   "source": [
    "W1.value"
   ]
  },
  {
   "cell_type": "code",
   "execution_count": 23,
   "metadata": {},
   "outputs": [
    {
     "data": {
      "text/plain": [
       "Input Node: y"
      ]
     },
     "execution_count": 23,
     "metadata": {},
     "output_type": "execute_result"
    }
   ],
   "source": [
    "y"
   ]
  },
  {
   "cell_type": "code",
   "execution_count": 36,
   "metadata": {},
   "outputs": [],
   "source": [
    "linear_output = Linear(X,W1,b1)\n",
    "sigmoid_output = sigmoid(linear_output)\n",
    "yhat=Linear(sigmoid_output,W2,b2)\n",
    "Loss = MSE(y,yhat)"
   ]
  },
  {
   "cell_type": "code",
   "execution_count": 37,
   "metadata": {},
   "outputs": [],
   "source": [
    "input_node_with_value = {\n",
    "    X:X_,\n",
    "    y:y_,\n",
    "    W1:W1_,\n",
    "    W2:W2_,\n",
    "    b1:b1_,\n",
    "    b2:b2_ \n",
    "}"
   ]
  },
  {
   "cell_type": "code",
   "execution_count": 38,
   "metadata": {},
   "outputs": [],
   "source": [
    "graph=toplogical_sort(input_node_with_value)"
   ]
  },
  {
   "cell_type": "code",
   "execution_count": 39,
   "metadata": {},
   "outputs": [
    {
     "data": {
      "text/plain": [
       "[Input Node: W1,\n",
       " Input Node: X,\n",
       " Input Node: y,\n",
       " Input Node: W2,\n",
       " Input Node: b1,\n",
       " Input Node: b2,\n",
       " <__main__.Linear at 0x1a1f0f2630>,\n",
       " <__main__.Linear at 0x1a1f109b38>,\n",
       " <__main__.sigmoid at 0x1a1f0f2e10>,\n",
       " <__main__.sigmoid at 0x1a1f109b00>,\n",
       " <__main__.Linear at 0x1a1f109b70>,\n",
       " <__main__.Linear at 0x1a1f0f2da0>,\n",
       " <__main__.MSE at 0x10ef517f0>,\n",
       " <__main__.MSE at 0x1a1f0f2b70>]"
      ]
     },
     "execution_count": 39,
     "metadata": {},
     "output_type": "execute_result"
    }
   ],
   "source": [
    "graph"
   ]
  },
  {
   "cell_type": "code",
   "execution_count": 40,
   "metadata": {},
   "outputs": [],
   "source": [
    "a=graph[-1].value"
   ]
  },
  {
   "cell_type": "code",
   "execution_count": 41,
   "metadata": {},
   "outputs": [],
   "source": [
    "a"
   ]
  },
  {
   "cell_type": "code",
   "execution_count": 42,
   "metadata": {},
   "outputs": [],
   "source": [
    "def training_one_batch(topological_sorted_graph):\n",
    "    # graph 是经过拓扑排序之后的 一个list\n",
    "    for node in topological_sorted_graph:\n",
    "        node.forward()\n",
    "    for node in topological_sorted_graph[::-1]:\n",
    "        node.backward()"
   ]
  },
  {
   "cell_type": "code",
   "execution_count": 43,
   "metadata": {},
   "outputs": [],
   "source": [
    "def sgd_update(trainable_nodes, learning_rate):\n",
    "    for t in trainable_nodes:\n",
    "        t.value+=-1*learning_rate*t.gradients[t]"
   ]
  },
  {
   "cell_type": "code",
   "execution_count": 44,
   "metadata": {},
   "outputs": [],
   "source": [
    "def sgd_update(trainable_nodes, learning_rate=1e-2):\n",
    "    for t in trainable_nodes:\n",
    "        t.value += -1 * learning_rate * t.gradients[t]"
   ]
  },
  {
   "cell_type": "code",
   "execution_count": 45,
   "metadata": {},
   "outputs": [
    {
     "name": "stdout",
     "output_type": "stream",
     "text": [
      "506\n",
      "steps_per_epoch 506\n",
      "Epoch: 1, loss = 100.474\n",
      "Epoch: 101, loss = 6.111\n",
      "Epoch: 201, loss = 5.212\n",
      "Epoch: 301, loss = 4.788\n",
      "Epoch: 401, loss = 4.548\n",
      "Epoch: 501, loss = 4.182\n",
      "Epoch: 601, loss = 4.070\n",
      "Epoch: 701, loss = 4.009\n",
      "Epoch: 801, loss = 3.874\n",
      "Epoch: 901, loss = 3.925\n",
      "Epoch: 1001, loss = 3.823\n",
      "Epoch: 1101, loss = 3.832\n",
      "Epoch: 1201, loss = 3.736\n",
      "Epoch: 1301, loss = 3.741\n",
      "Epoch: 1401, loss = 3.677\n",
      "Epoch: 1501, loss = 3.738\n",
      "Epoch: 1601, loss = 3.575\n",
      "Epoch: 1701, loss = 3.610\n",
      "Epoch: 1801, loss = 3.575\n",
      "Epoch: 1901, loss = 3.506\n",
      "Epoch: 2001, loss = 3.485\n",
      "Epoch: 2101, loss = 3.514\n",
      "Epoch: 2201, loss = 3.516\n",
      "Epoch: 2301, loss = 3.434\n",
      "Epoch: 2401, loss = 3.452\n",
      "Epoch: 2501, loss = 3.436\n",
      "Epoch: 2601, loss = 3.454\n",
      "Epoch: 2701, loss = 3.270\n",
      "Epoch: 2801, loss = 3.222\n",
      "Epoch: 2901, loss = 3.263\n",
      "Epoch: 3001, loss = 3.218\n",
      "Epoch: 3101, loss = 3.242\n",
      "Epoch: 3201, loss = 3.226\n",
      "Epoch: 3301, loss = 3.202\n",
      "Epoch: 3401, loss = 3.140\n",
      "Epoch: 3501, loss = 3.092\n",
      "Epoch: 3601, loss = 3.181\n",
      "Epoch: 3701, loss = 3.112\n",
      "Epoch: 3801, loss = 3.096\n",
      "Epoch: 3901, loss = 3.111\n",
      "Epoch: 4001, loss = 3.068\n",
      "Epoch: 4101, loss = 3.097\n",
      "Epoch: 4201, loss = 3.137\n",
      "Epoch: 4301, loss = 3.094\n",
      "Epoch: 4401, loss = 3.114\n",
      "Epoch: 4501, loss = 3.123\n",
      "Epoch: 4601, loss = 3.116\n",
      "Epoch: 4701, loss = 3.070\n",
      "Epoch: 4801, loss = 3.209\n",
      "Epoch: 4901, loss = 3.031\n"
     ]
    }
   ],
   "source": [
    "losses=[]\n",
    "epochs=5000\n",
    "batch_size=64\n",
    "step_per_epoch = X_.shape[0]\n",
    "print(X_.shape[0])\n",
    "print('steps_per_epoch',step_per_epoch)\n",
    "\n",
    "for i in range(epochs):\n",
    "    loss=0\n",
    "    for batch in range(step_per_epoch):\n",
    "        X_batch,y_batch = resample(X_,y_,n_samples=batch_size)\n",
    "        X.value=X_batch\n",
    "        y.value=y_batch\n",
    "        training_one_batch(graph)\n",
    "        learning_rate = 1e-3\n",
    "        sgd_update(trainable_nodes=[W1, W2, b1, b2], learning_rate=learning_rate)\n",
    "        \n",
    "        loss += graph[-1].value\n",
    "    if i % 100 == 0:\n",
    "        print('Epoch: {}, loss = {:.3f}'.format(i+1, loss/step_per_epoch))\n",
    "        losses.append(loss)\n",
    "        #print('losses----',losses)"
   ]
  },
  {
   "cell_type": "code",
   "execution_count": 46,
   "metadata": {},
   "outputs": [],
   "source": [
    "import matplotlib.pyplot as plt"
   ]
  },
  {
   "cell_type": "code",
   "execution_count": 47,
   "metadata": {},
   "outputs": [
    {
     "data": {
      "text/plain": [
       "[<matplotlib.lines.Line2D at 0x1a1ff84e80>]"
      ]
     },
     "execution_count": 47,
     "metadata": {},
     "output_type": "execute_result"
    },
    {
     "data": {
      "image/png": "[encoded data removed]",
      "text/plain": [
       "<Figure size 432x288 with 1 Axes>"
      ]
     },
     "metadata": {
      "needs_background": "light"
     },
     "output_type": "display_data"
    }
   ],
   "source": [
    "plt.plot(losses)"
   ]
  },
  {
   "cell_type": "code",
   "execution_count": null,
   "metadata": {},
   "outputs": [],
   "source": []
  }
 ],
 "metadata": {
  "kernelspec": {
   "display_name": "Python 3",
   "language": "python",
   "name": "python3"
  },
  "language_info": {
   "codemirror_mode": {
    "name": "ipython",
    "version": 3
   },
   "file_extension": ".py",
   "mimetype": "text/x-python",
   "name": "python",
   "nbconvert_exporter": "python",
   "pygments_lexer": "ipython3",
   "version": "3.6.9"
  }
 },
 "nbformat": 4,
 "nbformat_minor": 2
}
